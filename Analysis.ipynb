{
 "cells": [
  {
   "cell_type": "code",
   "execution_count": 1,
   "id": "b5c5c4b8-9c96-4404-8133-7b90259b34b0",
   "metadata": {},
   "outputs": [
    {
     "name": "stdout",
     "output_type": "stream",
     "text": [
      "Hello, Anaconda!\n"
     ]
    }
   ],
   "source": [
    "print(\"Hello, Anaconda!\")"
   ]
  },
  {
   "cell_type": "markdown",
   "id": "11fe3ac8-7683-4358-9fe0-e2f8dfc4b90a",
   "metadata": {},
   "source": [
    "This is where I'll be doing my Python tests and data analysis"
   ]
  },
  {
   "cell_type": "code",
   "execution_count": null,
   "id": "633dfcda-5c01-4936-9498-981eb5a8545f",
   "metadata": {},
   "outputs": [],
   "source": []
  }
 ],
 "metadata": {
  "kernelspec": {
   "display_name": "Python [conda env:base] *",
   "language": "python",
   "name": "conda-base-py"
  },
  "language_info": {
   "codemirror_mode": {
    "name": "ipython",
    "version": 3
   },
   "file_extension": ".py",
   "mimetype": "text/x-python",
   "name": "python",
   "nbconvert_exporter": "python",
   "pygments_lexer": "ipython3",
   "version": "3.13.5"
  }
 },
 "nbformat": 4,
 "nbformat_minor": 5
}
